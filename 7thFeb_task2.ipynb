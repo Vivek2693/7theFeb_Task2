{
 "cells": [
  {
   "cell_type": "markdown",
   "id": "44a8753b-3dbc-460c-a1b5-cc5f59690092",
   "metadata": {},
   "source": [
    "Q1. You are writing code for a company. The requirement of the company is that you create a python\n",
    "function that will check whether the password entered by the user is correct or not. The function should\n",
    "take the password as input and return the string “Valid Password” if the entered password follows the\n",
    "below-given password guidelines else it should return “Invalid Password”."
   ]
  },
  {
   "cell_type": "code",
   "execution_count": 5,
   "id": "4940f1c6-4a8f-4e23-81c3-7aec5eee532f",
   "metadata": {},
   "outputs": [
    {
     "name": "stdin",
     "output_type": "stream",
     "text": [
      "Enter your password:  Password1@\n"
     ]
    },
    {
     "name": "stdout",
     "output_type": "stream",
     "text": [
      "Valid Password\n"
     ]
    }
   ],
   "source": [
    "def check_password(password):\n",
    "    # Check the length of the password\n",
    "    if len(password) < 8:\n",
    "        return \"Invalid Password: Password should have at least 8 characters.\"\n",
    "\n",
    "    # Check if the password contains at least one uppercase letter, one lowercase letter, and one digit\n",
    "    has_uppercase = False\n",
    "    has_lowercase = False\n",
    "    has_digit = False\n",
    "\n",
    "    for char in password:\n",
    "        if char.isupper():\n",
    "            has_uppercase = True\n",
    "        elif char.islower():\n",
    "            has_lowercase = True\n",
    "        elif char.isdigit():\n",
    "            has_digit = True\n",
    "\n",
    "    if not (has_uppercase and has_lowercase and has_digit):\n",
    "        return \"Invalid Password: Password should contain at least one uppercase letter, one lowercase letter, and one digit.\"\n",
    "\n",
    "    # Check if the password contains any special characters\n",
    "    special_characters = \"!@#$%^&*()-_=+[]{}|;:,.<>/?\"\n",
    "    has_special_char = False\n",
    "\n",
    "    for char in password:\n",
    "        if char in special_characters:\n",
    "            has_special_char = True\n",
    "            break\n",
    "\n",
    "    if not has_special_char:\n",
    "        return \"Invalid Password: Password should contain at least one special character.\"\n",
    "\n",
    "    # If all checks pass, return \"Valid Password\"\n",
    "    return \"Valid Password\"\n",
    "\n",
    "password = input(\"Enter your password: \")\n",
    "result = check_password(password)\n",
    "print(result)\n",
    "\n"
   ]
  },
  {
   "cell_type": "markdown",
   "id": "a90733ca-58a6-4b91-b379-e50882173db2",
   "metadata": {},
   "source": [
    "Q2. Solve the below-given questions using at least one of the following:\n",
    "1. Lambda functioJ\n",
    "2. Filter functioJ\n",
    "3. Zap functioJ\n",
    "4. List ComprehensioI\n",
    "B Check if the string starts with a particular letterY\n",
    "B Check if the string is numericY\n",
    "B Sort a list of tuples having fruit names and their quantity. [(\"mango\",99),(\"orange\",80), (\"grapes\", 1000)-\n",
    "B Find the squares of numbers from 1 to 10Y\n",
    "B Find the cube root of numbers from 1 to 10Y\n",
    "B Check if a given number is evenY\n",
    "B Filter odd numbers from the given list.\n",
    "[1,2,3,4,5,6,7,8,9,10-\n",
    "B Sort a list of integers into positive and negative integers lists.\n",
    "[1,2,3,4,5,6,-1,-2,-3,-4,-5,0]"
   ]
  },
  {
   "cell_type": "code",
   "execution_count": 7,
   "id": "d67e6cf0-391d-4cae-ab79-8c7743479976",
   "metadata": {},
   "outputs": [
    {
     "name": "stdout",
     "output_type": "stream",
     "text": [
      "True\n",
      "True\n"
     ]
    }
   ],
   "source": [
    "#1. \n",
    "\n",
    "string = \"Hello, World!\"\n",
    "\n",
    "# Using list comprehension\n",
    "starts_with_letter = string.startswith('H')\n",
    "print(starts_with_letter)  # Output: True\n",
    "\n",
    "# Using lambda function and filter function\n",
    "starts_with_letter = bool(list(filter(lambda x: x.startswith('H'), [string])))\n",
    "print(starts_with_letter)  # Output: True\n"
   ]
  },
  {
   "cell_type": "code",
   "execution_count": 8,
   "id": "fd248839-d90b-4fb1-9e09-150389d98ccd",
   "metadata": {},
   "outputs": [
    {
     "name": "stdout",
     "output_type": "stream",
     "text": [
      "True\n",
      "True\n"
     ]
    }
   ],
   "source": [
    "#2\n",
    "\n",
    "string = \"12345\"\n",
    "\n",
    "# Using list comprehension\n",
    "is_numeric = string.isnumeric()\n",
    "print(is_numeric)  # Output: True\n",
    "\n",
    "# Using lambda function and filter function\n",
    "is_numeric = bool(list(filter(lambda x: x.isnumeric(), [string])))\n",
    "print(is_numeric)  # Output: True\n"
   ]
  },
  {
   "cell_type": "code",
   "execution_count": 10,
   "id": "612665b9-9d4e-4a9e-9605-19a5ef465067",
   "metadata": {},
   "outputs": [
    {
     "name": "stdout",
     "output_type": "stream",
     "text": [
      "[('orange', 80), ('mango', 99), ('grapes', 1000)]\n",
      "[('orange', 80), ('mango', 99), ('grapes', 1000)]\n"
     ]
    }
   ],
   "source": [
    "#3\n",
    "\n",
    "fruits = [(\"mango\", 99), (\"orange\", 80), (\"grapes\", 1000)]\n",
    "\n",
    "# Using list comprehension\n",
    "sorted_fruits = sorted(fruits, key=lambda x: x[1])\n",
    "print(sorted_fruits)\n",
    "\n",
    "# Using lambda function and sort function\n",
    "sorted_fruits = sorted(fruits, key=lambda x: x[1])\n",
    "print(sorted_fruits)\n"
   ]
  },
  {
   "cell_type": "code",
   "execution_count": 11,
   "id": "e75ee2f4-c630-47d0-a421-10a091eb0a5c",
   "metadata": {},
   "outputs": [
    {
     "name": "stdout",
     "output_type": "stream",
     "text": [
      "[1, 4, 9, 16, 25, 36, 49, 64, 81, 100]\n",
      "[1, 4, 9, 16, 25, 36, 49, 64, 81, 100]\n"
     ]
    }
   ],
   "source": [
    "#4.\n",
    "\n",
    "# Using list comprehension\n",
    "squares = [x**2 for x in range(1, 11)]\n",
    "print(squares)\n",
    "\n",
    "# Using lambda function and map function\n",
    "squares = list(map(lambda x: x**2, range(1, 11)))\n",
    "print(squares)\n"
   ]
  },
  {
   "cell_type": "code",
   "execution_count": 12,
   "id": "1e5694f3-368a-40d6-8964-64dafc068523",
   "metadata": {},
   "outputs": [
    {
     "name": "stdout",
     "output_type": "stream",
     "text": [
      "[1.0, 1.2599210498948732, 1.4422495703074083, 1.5874010519681994, 1.7099759466766968, 1.8171205928321397, 1.912931182772389, 2.0, 2.080083823051904, 2.154434690031884]\n",
      "[1.0, 1.2599210498948732, 1.4422495703074083, 1.5874010519681994, 1.7099759466766968, 1.8171205928321397, 1.912931182772389, 2.0, 2.080083823051904, 2.154434690031884]\n"
     ]
    }
   ],
   "source": [
    "#Cube of the number\n",
    "\n",
    "import math\n",
    "\n",
    "\n",
    "# Using list comprehension\n",
    "cube_roots = [math.pow(x, 1/3) for x in range(1, 11)]\n",
    "print(cube_roots)\n",
    "\n",
    "# Using lambda function and map function\n",
    "cube_roots = list(map(lambda x: math.pow(x, 1/3), range(1, 11)))\n",
    "print(cube_roots)\n"
   ]
  },
  {
   "cell_type": "code",
   "execution_count": 13,
   "id": "a5d7878c-cd88-493f-b10a-3b491367cb19",
   "metadata": {},
   "outputs": [
    {
     "name": "stdout",
     "output_type": "stream",
     "text": [
      "True\n",
      "True\n"
     ]
    }
   ],
   "source": [
    "# Check the given number is even\n",
    "\n",
    "number = 6\n",
    "\n",
    "# Using list comprehension\n",
    "is_even = number % 2 == 0\n",
    "print(is_even)  # Output: True\n",
    "\n",
    "# Using lambda function and filter function\n",
    "is_even = bool(list(filter(lambda x: x % 2 == 0, [number])))\n",
    "print(is_even)  # Output: True\n"
   ]
  },
  {
   "cell_type": "markdown",
   "id": "7e9e1bba-50f5-4062-9e2a-f8f39b54b44b",
   "metadata": {},
   "source": [
    "### Filter odd numbers from the given list: [1, 2, 3, 4, 5, 6, 7, 8, 9, 10]\n"
   ]
  },
  {
   "cell_type": "code",
   "execution_count": 14,
   "id": "0d8dcea5-9f9d-4e3d-856d-052566114927",
   "metadata": {},
   "outputs": [
    {
     "name": "stdout",
     "output_type": "stream",
     "text": [
      "[1, 3, 5, 7, 9]\n",
      "[1, 3, 5, 7, 9]\n"
     ]
    }
   ],
   "source": [
    "numbers = [1, 2, 3, 4, 5, 6, 7, 8, 9, 10]\n",
    "\n",
    "# Using list comprehension\n",
    "odd_numbers = [x for x in numbers if x % 2 != 0]\n",
    "print(odd_numbers)\n",
    "\n",
    "# Using lambda function and filter function\n",
    "odd_numbers = list(filter(lambda x: x % 2 != 0, numbers))\n",
    "print(odd_numbers)\n"
   ]
  },
  {
   "cell_type": "markdown",
   "id": "c1940976-9d17-4d4e-aafb-a3dfc1424330",
   "metadata": {},
   "source": [
    "### Sort a list of integers into positive and negative integers lists: [1, 2, 3, 4, 5, 6, -1, -2, -3, -4, -5, 0]"
   ]
  },
  {
   "cell_type": "code",
   "execution_count": null,
   "id": "2bca47d3-632b-43d5-81ac-fa4b0bacfdc0",
   "metadata": {},
   "outputs": [],
   "source": []
  },
  {
   "cell_type": "code",
   "execution_count": null,
   "id": "ec6daabd-0455-48db-8d4d-dc71ed285eac",
   "metadata": {},
   "outputs": [],
   "source": []
  }
 ],
 "metadata": {
  "kernelspec": {
   "display_name": "Python 3 (ipykernel)",
   "language": "python",
   "name": "python3"
  },
  "language_info": {
   "codemirror_mode": {
    "name": "ipython",
    "version": 3
   },
   "file_extension": ".py",
   "mimetype": "text/x-python",
   "name": "python",
   "nbconvert_exporter": "python",
   "pygments_lexer": "ipython3",
   "version": "3.10.8"
  }
 },
 "nbformat": 4,
 "nbformat_minor": 5
}
